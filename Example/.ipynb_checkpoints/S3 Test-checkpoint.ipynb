{
 "cells": [
  {
   "cell_type": "code",
   "execution_count": null,
   "metadata": {},
   "outputs": [],
   "source": []
  },
  {
   "cell_type": "code",
   "execution_count": 8,
   "metadata": {},
   "outputs": [],
   "source": [
    "from aws_s3_resource.s3_bucket_error import NumberRandomCharsException, NumberCharsBucketNameException\n",
    "from aws_s3_resource.s3_bucket import S3Bucket\n",
    "from aws_s3_resource.s3_object import S3Object\n"
   ]
  },
  {
   "cell_type": "code",
   "execution_count": 10,
   "metadata": {},
   "outputs": [
    {
     "data": {
      "text/plain": [
       "'test-xyz-4fcffb'"
      ]
     },
     "execution_count": 10,
     "metadata": {},
     "output_type": "execute_result"
    }
   ],
   "source": [
    "bucket_name = S3Bucket.create_with_random_name_suffix('test-xyz')\n",
    "bucket_name"
   ]
  },
  {
   "cell_type": "code",
   "execution_count": 22,
   "metadata": {},
   "outputs": [
    {
     "data": {
      "text/plain": [
       "{'ResponseMetadata': {'RequestId': '9D4825A5A463BB7E',\n",
       "  'HostId': '7leRM1keDFue7qgLmg31l2PKI1zuFS1NYarCbgwqQag0ATm7WrV2xuSykixPxD8Xqyd9TYx8QNA=',\n",
       "  'HTTPStatusCode': 204,\n",
       "  'HTTPHeaders': {'x-amz-id-2': '7leRM1keDFue7qgLmg31l2PKI1zuFS1NYarCbgwqQag0ATm7WrV2xuSykixPxD8Xqyd9TYx8QNA=',\n",
       "   'x-amz-request-id': '9D4825A5A463BB7E',\n",
       "   'date': 'Wed, 18 Mar 2020 04:17:33 GMT',\n",
       "   'server': 'AmazonS3'},\n",
       "  'RetryAttempts': 0}}"
      ]
     },
     "execution_count": 22,
     "metadata": {},
     "output_type": "execute_result"
    }
   ],
   "source": [
    "S3Bucket.delete(bucket_name)"
   ]
  },
  {
   "cell_type": "code",
   "execution_count": 133,
   "metadata": {},
   "outputs": [
    {
     "data": {
      "text/plain": [
       "s3.bucketsCollection(s3.ServiceResource(), s3.Bucket)"
      ]
     },
     "execution_count": 133,
     "metadata": {},
     "output_type": "execute_result"
    }
   ],
   "source": [
    "S3Bucket.list_all(as_generator=True)"
   ]
  },
  {
   "cell_type": "code",
   "execution_count": 134,
   "metadata": {},
   "outputs": [
    {
     "data": {
      "text/plain": [
       "[s3.Bucket(name='codepipeline-eu-central-1-778189661144'),\n",
       " s3.Bucket(name='docs4syria'),\n",
       " s3.Bucket(name='elasticbeanstalk-eu-central-1-297065322153'),\n",
       " s3.Bucket(name='murmurate.app'),\n",
       " s3.Bucket(name='news-website-archive'),\n",
       " s3.Bucket(name='samer-cloud-guru'),\n",
       " s3.Bucket(name='staging.murmurate.app'),\n",
       " s3.Bucket(name='test-xyz-4fcffb'),\n",
       " s3.Bucket(name='utility-files-burkina-faso-production'),\n",
       " s3.Bucket(name='utility-files-burkina-faso-staging'),\n",
       " s3.Bucket(name='utility-files-cameroon-production'),\n",
       " s3.Bucket(name='utility-files-cameroon-staging'),\n",
       " s3.Bucket(name='utility-files-chad-production'),\n",
       " s3.Bucket(name='utility-files-chad-staging'),\n",
       " s3.Bucket(name='utility-files-mali-production'),\n",
       " s3.Bucket(name='utility-files-mali-staging'),\n",
       " s3.Bucket(name='utility-files-niger-production'),\n",
       " s3.Bucket(name='utility-files-niger-staging'),\n",
       " s3.Bucket(name='utility-files-nigeria-production'),\n",
       " s3.Bucket(name='utility-files-nigeria-staging'),\n",
       " s3.Bucket(name='utility-files-syria-production'),\n",
       " s3.Bucket(name='utility-files-syria-staging'),\n",
       " s3.Bucket(name='utility.frontend.build'),\n",
       " s3.Bucket(name='utility.tgsn.media'),\n",
       " s3.Bucket(name='utilitystaging.tgsn.media')]"
      ]
     },
     "execution_count": 134,
     "metadata": {},
     "output_type": "execute_result"
    }
   ],
   "source": [
    "S3Bucket.list_all(as_generator=False)"
   ]
  },
  {
   "cell_type": "code",
   "execution_count": 135,
   "metadata": {},
   "outputs": [
    {
     "data": {
      "text/plain": [
       "<generator object S3Bucket.list_all_names.<locals>.<genexpr> at 0x000001EE04A96518>"
      ]
     },
     "execution_count": 135,
     "metadata": {},
     "output_type": "execute_result"
    }
   ],
   "source": [
    "S3Bucket.list_all_names(as_generator=True)"
   ]
  },
  {
   "cell_type": "code",
   "execution_count": 136,
   "metadata": {},
   "outputs": [
    {
     "data": {
      "text/plain": [
       "['codepipeline-eu-central-1-778189661144',\n",
       " 'docs4syria',\n",
       " 'elasticbeanstalk-eu-central-1-297065322153',\n",
       " 'murmurate.app',\n",
       " 'news-website-archive',\n",
       " 'samer-cloud-guru',\n",
       " 'staging.murmurate.app',\n",
       " 'test-xyz-4fcffb',\n",
       " 'utility-files-burkina-faso-production',\n",
       " 'utility-files-burkina-faso-staging',\n",
       " 'utility-files-cameroon-production',\n",
       " 'utility-files-cameroon-staging',\n",
       " 'utility-files-chad-production',\n",
       " 'utility-files-chad-staging',\n",
       " 'utility-files-mali-production',\n",
       " 'utility-files-mali-staging',\n",
       " 'utility-files-niger-production',\n",
       " 'utility-files-niger-staging',\n",
       " 'utility-files-nigeria-production',\n",
       " 'utility-files-nigeria-staging',\n",
       " 'utility-files-syria-production',\n",
       " 'utility-files-syria-staging',\n",
       " 'utility.frontend.build',\n",
       " 'utility.tgsn.media',\n",
       " 'utilitystaging.tgsn.media']"
      ]
     },
     "execution_count": 136,
     "metadata": {},
     "output_type": "execute_result"
    }
   ],
   "source": [
    "S3Bucket.list_all_names(as_generator=False)"
   ]
  },
  {
   "cell_type": "code",
   "execution_count": 27,
   "metadata": {},
   "outputs": [
    {
     "data": {
      "text/plain": [
       "True"
      ]
     },
     "execution_count": 27,
     "metadata": {},
     "output_type": "execute_result"
    }
   ],
   "source": [
    "S3Bucket.is_available('utility.tgsn.media')"
   ]
  },
  {
   "cell_type": "code",
   "execution_count": 92,
   "metadata": {},
   "outputs": [],
   "source": [
    "file_name = 'dummy.png'\n",
    "file_path = os.path.join(os.getcwd(), file_name)"
   ]
  },
  {
   "cell_type": "code",
   "execution_count": 93,
   "metadata": {},
   "outputs": [
    {
     "data": {
      "text/plain": [
       "'dummy.png'"
      ]
     },
     "execution_count": 93,
     "metadata": {},
     "output_type": "execute_result"
    }
   ],
   "source": [
    "# From file_path\n",
    "file_dict = {\n",
    "    'file_path': file_path\n",
    "}\n",
    "S3Object.upload(bucket_name, file_dict, with_random_prefix=False)\n",
    "# S3Object.upload(bucket_name, file_dict, with_random_prefix=True, num_random_chars=6)\n",
    "# S3Object.upload(bucket_name, file_dict, with_random_prefix=True, num_random_chars=12)"
   ]
  },
  {
   "cell_type": "code",
   "execution_count": 76,
   "metadata": {},
   "outputs": [
    {
     "data": {
      "text/plain": [
       "'d8ea0e1b2ff3-dummy.png'"
      ]
     },
     "execution_count": 76,
     "metadata": {},
     "output_type": "execute_result"
    }
   ],
   "source": [
    "# From file_bytes\n",
    "with open(file_name, 'rb') as f:\n",
    "    file_bytes = f.read()\n",
    "\n",
    "file_dict = {\n",
    "    'file_name': file_name,\n",
    "    'file_bytes': file_bytes\n",
    "}\n",
    "S3Object.upload(bucket_name, file_dict, with_random_prefix=False)\n",
    "S3Object.upload(bucket_name, file_dict, with_random_prefix=True, num_random_chars=6)\n",
    "S3Object.upload(bucket_name, file_dict, with_random_prefix=True, num_random_chars=12)"
   ]
  },
  {
   "cell_type": "code",
   "execution_count": 78,
   "metadata": {},
   "outputs": [
    {
     "data": {
      "text/plain": [
       "'721b8823ded5-dummy.png'"
      ]
     },
     "execution_count": 78,
     "metadata": {},
     "output_type": "execute_result"
    }
   ],
   "source": [
    "# From file object\n",
    "file_dict = {\n",
    "    'file_name': file_name,\n",
    "    'file_obj': open(file_name, 'rb')\n",
    "}\n",
    "S3Object.upload(bucket_name, file_dict, with_random_prefix=False)\n",
    "\n",
    "file_dict = {\n",
    "    'file_name': file_name,\n",
    "    'file_obj': open(file_name, 'rb')\n",
    "}\n",
    "\n",
    "S3Object.upload(bucket_name, file_dict, with_random_prefix=True, num_random_chars=6)\n",
    "\n",
    "file_dict = {\n",
    "    'file_name': file_name,\n",
    "    'file_obj': open(file_name, 'rb')\n",
    "}\n",
    "S3Object.upload(bucket_name, file_dict, with_random_prefix=True, num_random_chars=12)"
   ]
  },
  {
   "cell_type": "code",
   "execution_count": 108,
   "metadata": {},
   "outputs": [],
   "source": [
    "# Download\n",
    "file_path = 'D:\\\\GitHub\\\\AWS S3 Operations\\\\dummy_aws.png'\n",
    "object_key = file_name\n",
    "\n",
    "file_dict = {\n",
    "    'file_path': file_path\n",
    "}\n",
    "\n",
    "S3Object.download(bucket_name, object_key, file_dict)"
   ]
  },
  {
   "cell_type": "code",
   "execution_count": 111,
   "metadata": {},
   "outputs": [],
   "source": [
    "# Download the file bytes\n",
    "object_key = file_name\n",
    "file_bytes = S3Object.download(bucket_name, object_key)\n",
    "with open('dummy_aws_bytes.png', 'wb') as f:\n",
    "    f.write(file_bytes)"
   ]
  },
  {
   "cell_type": "code",
   "execution_count": 114,
   "metadata": {},
   "outputs": [],
   "source": [
    "# Download to a file object\n",
    "object_key = file_name\n",
    "with open('dummy_aws_obj.png', 'wb') as f:\n",
    "    file_dict = {\n",
    "        'file_obj': f\n",
    "        }\n",
    "    \n",
    "    S3Object.download(bucket_name, object_key, file_dict)"
   ]
  },
  {
   "cell_type": "code",
   "execution_count": 91,
   "metadata": {},
   "outputs": [
    {
     "data": {
      "text/plain": [
       "{'ResponseMetadata': {'RequestId': '3B8C7476B67BB7C4',\n",
       "  'HostId': 'VQdKBxEnrqkW/kupp89KtKWeXz1TvPuPGhLFsK8o0AtvOLgPJYKvvmlV10uHEJ90CluKBOtFOcM=',\n",
       "  'HTTPStatusCode': 204,\n",
       "  'HTTPHeaders': {'x-amz-id-2': 'VQdKBxEnrqkW/kupp89KtKWeXz1TvPuPGhLFsK8o0AtvOLgPJYKvvmlV10uHEJ90CluKBOtFOcM=',\n",
       "   'x-amz-request-id': '3B8C7476B67BB7C4',\n",
       "   'date': 'Wed, 18 Mar 2020 05:45:47 GMT',\n",
       "   'server': 'AmazonS3'},\n",
       "  'RetryAttempts': 0}}"
      ]
     },
     "execution_count": 91,
     "metadata": {},
     "output_type": "execute_result"
    }
   ],
   "source": [
    "# Delete\n",
    "S3Object.delete(bucket_name, file_name)"
   ]
  },
  {
   "cell_type": "code",
   "execution_count": 140,
   "metadata": {},
   "outputs": [
    {
     "data": {
      "text/plain": [
       "[s3.ObjectSummary(bucket_name='test-xyz-4fcffb', key='dummy.png')]"
      ]
     },
     "execution_count": 140,
     "metadata": {},
     "output_type": "execute_result"
    }
   ],
   "source": [
    "S3Object.list_all(bucket_name, as_generator=False)"
   ]
  },
  {
   "cell_type": "code",
   "execution_count": 149,
   "metadata": {},
   "outputs": [],
   "source": [
    "objects = S3Object.list_all(bucket_name, as_generator=True)"
   ]
  },
  {
   "cell_type": "code",
   "execution_count": 142,
   "metadata": {},
   "outputs": [
    {
     "data": {
      "text/plain": [
       "['dummy.png']"
      ]
     },
     "execution_count": 142,
     "metadata": {},
     "output_type": "execute_result"
    }
   ],
   "source": [
    "S3Object.list_all_keys(bucket_name, as_generator=False)"
   ]
  },
  {
   "cell_type": "code",
   "execution_count": 143,
   "metadata": {},
   "outputs": [
    {
     "data": {
      "text/plain": [
       "<generator object S3Object.list_all_keys.<locals>.<genexpr> at 0x000001EE04952B48>"
      ]
     },
     "execution_count": 143,
     "metadata": {},
     "output_type": "execute_result"
    }
   ],
   "source": [
    "S3Object.list_all_keys(bucket_name, as_generator=True)"
   ]
  },
  {
   "cell_type": "code",
   "execution_count": 158,
   "metadata": {},
   "outputs": [
    {
     "data": {
      "text/plain": [
       "True"
      ]
     },
     "execution_count": 158,
     "metadata": {},
     "output_type": "execute_result"
    }
   ],
   "source": [
    "# Check if a file is available\n",
    "object_key = file_name\n",
    "S3Object.is_available(bucket_name, object_key)"
   ]
  },
  {
   "cell_type": "code",
   "execution_count": null,
   "metadata": {},
   "outputs": [],
   "source": []
  }
 ],
 "metadata": {
  "kernelspec": {
   "display_name": "Python 3",
   "language": "python",
   "name": "python3"
  },
  "language_info": {
   "codemirror_mode": {
    "name": "ipython",
    "version": 3
   },
   "file_extension": ".py",
   "mimetype": "text/x-python",
   "name": "python",
   "nbconvert_exporter": "python",
   "pygments_lexer": "ipython3",
   "version": "3.6.0"
  }
 },
 "nbformat": 4,
 "nbformat_minor": 2
}
